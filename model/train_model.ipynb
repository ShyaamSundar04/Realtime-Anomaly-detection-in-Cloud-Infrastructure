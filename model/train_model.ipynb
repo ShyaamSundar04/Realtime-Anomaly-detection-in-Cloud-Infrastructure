{
 "cells": [
  {
   "cell_type": "markdown",
   "metadata": {},
   "source": [
    "# Train Anomaly Detection Model\n",
    "\n",
    "This notebook trains an Isolation Forest model on simulated cloud infrastructure metrics data and saves the trained model."
   ]
  },
  {
   "cell_type": "code",
   "execution_count": null,
   "metadata": {},
   "outputs": [],
   "source": [
    "import numpy as np\n",
    "from sklearn.ensemble import IsolationForest\n",
    "import joblib\n",
    "import os\n",
    "\n",
    "# Generate simulated cloud metrics data\n",
    "def generate_data(n_samples=1000):\n",
    "    np.random.seed(42)\n",
    "    cpu_usage = np.random.uniform(0, 100, n_samples)\n",
    "    memory_usage = np.random.uniform(0, 100, n_samples)\n",
    "    disk_usage = np.random.uniform(0, 100, n_samples)\n",
    "    network_in = np.random.uniform(0, 1000, n_samples)\n",
    "    network_out = np.random.uniform(0, 1000, n_samples)\n",
    "    api_request_rate = np.random.randint(0, 1000, n_samples)\n",
    "    \n",
    "    X = np.column_stack((cpu_usage, memory_usage, disk_usage, network_in, network_out, api_request_rate))\n",
    "    return X\n",
    "\n",
    "# Train Isolation Forest model\n",
    "X_train = generate_data()\n",
    "model = IsolationForest(contamination=0.01, random_state=42)\n",
    "model.fit(X_train)\n",
    "\n",
    "# Save the model\n",
    "model_path = os.path.join(os.path.dirname(os.path.abspath(\"\")), 'model', 'isolation_forest_model.pkl')\n",
    "joblib.dump(model, model_path)\n",
    "\n",
    "print(f\"Model saved to {model_path}\")"
   ]
  }
 ],
 "metadata": {
  "kernelspec": {
   "display_name": "Python 3",
   "language": "python",
   "name": "python3"
  },
  "language_info": {
   "name": "python",
   "version": "3.8"
  }
 },
 "nbformat": 4,
 "nbformat_minor": 5
}
